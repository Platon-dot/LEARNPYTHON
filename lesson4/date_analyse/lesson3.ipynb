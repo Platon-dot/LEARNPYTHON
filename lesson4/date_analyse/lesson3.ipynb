{
 "cells": [
  {
   "cell_type": "code",
   "execution_count": 23,
   "id": "suitable-momentum",
   "metadata": {},
   "outputs": [],
   "source": [
    "import pandas as pd # сокращение import чтобы потом писать только pd"
   ]
  },
  {
   "cell_type": "code",
   "execution_count": 24,
   "id": "anonymous-lease",
   "metadata": {},
   "outputs": [],
   "source": [
    "my_series = pd.Series([1, 6, -2, 3, -4, 0])"
   ]
  },
  {
   "cell_type": "code",
   "execution_count": 25,
   "id": "lonely-plaza",
   "metadata": {},
   "outputs": [
    {
     "data": {
      "text/plain": [
       "0    1\n",
       "1    6\n",
       "2   -2\n",
       "3    3\n",
       "4   -4\n",
       "5    0\n",
       "dtype: int64"
      ]
     },
     "execution_count": 25,
     "metadata": {},
     "output_type": "execute_result"
    }
   ],
   "source": [
    "my_series"
   ]
  },
  {
   "cell_type": "code",
   "execution_count": 26,
   "id": "asian-margin",
   "metadata": {},
   "outputs": [
    {
     "data": {
      "text/plain": [
       "6"
      ]
     },
     "execution_count": 26,
     "metadata": {},
     "output_type": "execute_result"
    }
   ],
   "source": [
    "my_series[1] # взять элемент с индексом 1"
   ]
  },
  {
   "cell_type": "code",
   "execution_count": 27,
   "id": "generous-empty",
   "metadata": {},
   "outputs": [
    {
     "data": {
      "text/plain": [
       "0    1\n",
       "1    6\n",
       "dtype: int64"
      ]
     },
     "execution_count": 27,
     "metadata": {},
     "output_type": "execute_result"
    }
   ],
   "source": [
    "my_series[0:2]"
   ]
  },
  {
   "cell_type": "code",
   "execution_count": 28,
   "id": "standing-beatles",
   "metadata": {},
   "outputs": [
    {
     "data": {
      "text/plain": [
       "0    1\n",
       "1    6\n",
       "dtype: int64"
      ]
     },
     "execution_count": 28,
     "metadata": {},
     "output_type": "execute_result"
    }
   ],
   "source": [
    "my_series[:2]"
   ]
  },
  {
   "cell_type": "code",
   "execution_count": 29,
   "id": "intermediate-particular",
   "metadata": {},
   "outputs": [
    {
     "data": {
      "text/plain": [
       "0    1\n",
       "1    6\n",
       "3    3\n",
       "dtype: int64"
      ]
     },
     "execution_count": 29,
     "metadata": {},
     "output_type": "execute_result"
    }
   ],
   "source": [
    "my_series[my_series > 0] # взять все желементы больше какого-то значения"
   ]
  },
  {
   "cell_type": "code",
   "execution_count": 30,
   "id": "attended-execution",
   "metadata": {},
   "outputs": [
    {
     "data": {
      "text/plain": [
       "0     2\n",
       "1    12\n",
       "2    -4\n",
       "3     6\n",
       "4    -8\n",
       "5     0\n",
       "dtype: int64"
      ]
     },
     "execution_count": 30,
     "metadata": {},
     "output_type": "execute_result"
    }
   ],
   "source": [
    "my_series * 2"
   ]
  },
  {
   "cell_type": "code",
   "execution_count": 32,
   "id": "artificial-sleeve",
   "metadata": {},
   "outputs": [],
   "source": [
    "import numpy as np  # библиотека экспаоненты в сокращении np"
   ]
  },
  {
   "cell_type": "code",
   "execution_count": 33,
   "id": "independent-tournament",
   "metadata": {},
   "outputs": [
    {
     "data": {
      "text/plain": [
       "0      2.718282\n",
       "1    403.428793\n",
       "2      0.135335\n",
       "3     20.085537\n",
       "4      0.018316\n",
       "5      1.000000\n",
       "dtype: float64"
      ]
     },
     "execution_count": 33,
     "metadata": {},
     "output_type": "execute_result"
    }
   ],
   "source": [
    "np.exp(my_series) # взятие экспоненты"
   ]
  },
  {
   "cell_type": "code",
   "execution_count": 34,
   "id": "activated-dakota",
   "metadata": {},
   "outputs": [
    {
     "data": {
      "text/plain": [
       "4"
      ]
     },
     "execution_count": 34,
     "metadata": {},
     "output_type": "execute_result"
    }
   ],
   "source": [
    "np.sum(my_series)  # суммирование"
   ]
  }
 ],
 "metadata": {
  "kernelspec": {
   "display_name": "Python 3",
   "language": "python",
   "name": "python3"
  },
  "language_info": {
   "codemirror_mode": {
    "name": "ipython",
    "version": 3
   },
   "file_extension": ".py",
   "mimetype": "text/x-python",
   "name": "python",
   "nbconvert_exporter": "python",
   "pygments_lexer": "ipython3",
   "version": "3.9.1"
  }
 },
 "nbformat": 4,
 "nbformat_minor": 5
}
